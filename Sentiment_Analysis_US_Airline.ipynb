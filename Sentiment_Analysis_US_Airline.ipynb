{
  "nbformat": 4,
  "nbformat_minor": 0,
  "metadata": {
    "kernelspec": {
      "language": "python",
      "display_name": "Python 3",
      "name": "python3"
    },
    "language_info": {
      "pygments_lexer": "ipython3",
      "nbconvert_exporter": "python",
      "version": "3.6.4",
      "file_extension": ".py",
      "codemirror_mode": {
        "name": "ipython",
        "version": 3
      },
      "name": "python",
      "mimetype": "text/x-python"
    },
    "colab": {
      "name": "Sentiment Analysis US Airline.ipynb",
      "provenance": [],
      "collapsed_sections": [],
      "include_colab_link": true
    }
  },
  "cells": [
    {
      "cell_type": "markdown",
      "metadata": {
        "id": "view-in-github",
        "colab_type": "text"
      },
      "source": [
        "<a href=\"https://colab.research.google.com/github/virgantara/sentiment-analysis/blob/master/Sentiment_Analysis_US_Airline.ipynb\" target=\"_parent\"><img src=\"https://colab.research.google.com/assets/colab-badge.svg\" alt=\"Open In Colab\"/></a>"
      ]
    },
    {
      "cell_type": "markdown",
      "metadata": {
        "id": "jUQGCvB_PLua",
        "colab_type": "text"
      },
      "source": [
        "### Pendahuluan\n",
        "Analisis sentimen mengacu pada proses analisis terhadap pendapat atau perasaan tentang sesuatu yang menggunakan data seperti teks atau gambar. Analisis sentimen banyak membantu dalam proses pengambilan keputusan. Misalnya, jika sentimen publik terhadap suatu produk tidak begitu baik, sebuah perusahaan dapat mencoba untuk memodifikasi produk atau menghentikan produksi sama sekali untuk menghindari kerugian.\n",
        "\n",
        "Ada banyak sumber sentimen publik, misalnya: wawancara publik, jajak pendapat, survei, dll. Namun, dengan semakin banyak orang bergabung dengan platform media sosial, situs web seperti Facebook dan Twitter dapat diambil untuk sentimen publik."
      ]
    },
    {
      "cell_type": "markdown",
      "metadata": {
        "id": "ortPAkmaPLud",
        "colab_type": "text"
      },
      "source": [
        "### Rumusan Masalah\n",
        "Ada cuitan dari Twitter tentang enam maskapai AS. Isinya adalah tweet yang berisi sentimen positif, negatif, atau netral tentang maskapai."
      ]
    },
    {
      "cell_type": "markdown",
      "metadata": {
        "id": "UWekP-xTPLuh",
        "colab_type": "text"
      },
      "source": [
        "### Import Library\n",
        "import semua library yang diperlukan"
      ]
    },
    {
      "cell_type": "code",
      "metadata": {
        "_uuid": "8f2839f25d086af736a60e9eeb907d3b93b6e0e5",
        "_cell_guid": "b1076dfc-b9ad-4769-8c92-a6c4dae69d19",
        "trusted": true,
        "id": "wntL4Im4PLuj",
        "colab_type": "code",
        "colab": {
          "base_uri": "https://localhost:8080/",
          "height": 54
        },
        "outputId": "df6b2d4e-e6f9-43e7-e273-54ea59f2c0f3"
      },
      "source": [
        "\n",
        "import numpy as np \n",
        "import pandas as pd \n",
        "import re\n",
        "import nltk \n",
        "nltk.download('stopwords')\n",
        "import matplotlib.pyplot as plt\n",
        "%matplotlib inline\n"
      ],
      "execution_count": 149,
      "outputs": [
        {
          "output_type": "stream",
          "text": [
            "[nltk_data] Downloading package stopwords to /root/nltk_data...\n",
            "[nltk_data]   Package stopwords is already up-to-date!\n"
          ],
          "name": "stdout"
        }
      ]
    },
    {
      "cell_type": "markdown",
      "metadata": {
        "id": "QK5DXT9sPLuu",
        "colab_type": "text"
      },
      "source": [
        "### Membaca dataset\n",
        "Di sini, dataset dari twitter dibaca dengan \n",
        "    <code>read_csv</code> dan menampilkan top 5 dataset dengan <code>head()</code>"
      ]
    },
    {
      "cell_type": "code",
      "metadata": {
        "_cell_guid": "",
        "_uuid": "",
        "trusted": true,
        "id": "QruNoQdMPLux",
        "colab_type": "code",
        "colab": {
          "base_uri": "https://localhost:8080/",
          "height": 452
        },
        "outputId": "d084aa64-1d7a-4094-8d8c-416391b9663a"
      },
      "source": [
        "import pandas as pd\n",
        "airline_tweets = pd.read_csv(\"https://raw.githubusercontent.com/virgantara/sentiment-analysis/master/Tweets.csv\")\n",
        "airline_tweets.head()"
      ],
      "execution_count": 150,
      "outputs": [
        {
          "output_type": "execute_result",
          "data": {
            "text/html": [
              "<div>\n",
              "<style scoped>\n",
              "    .dataframe tbody tr th:only-of-type {\n",
              "        vertical-align: middle;\n",
              "    }\n",
              "\n",
              "    .dataframe tbody tr th {\n",
              "        vertical-align: top;\n",
              "    }\n",
              "\n",
              "    .dataframe thead th {\n",
              "        text-align: right;\n",
              "    }\n",
              "</style>\n",
              "<table border=\"1\" class=\"dataframe\">\n",
              "  <thead>\n",
              "    <tr style=\"text-align: right;\">\n",
              "      <th></th>\n",
              "      <th>tweet_id</th>\n",
              "      <th>airline_sentiment</th>\n",
              "      <th>airline_sentiment_confidence</th>\n",
              "      <th>negativereason</th>\n",
              "      <th>negativereason_confidence</th>\n",
              "      <th>airline</th>\n",
              "      <th>airline_sentiment_gold</th>\n",
              "      <th>name</th>\n",
              "      <th>negativereason_gold</th>\n",
              "      <th>retweet_count</th>\n",
              "      <th>text</th>\n",
              "      <th>tweet_coord</th>\n",
              "      <th>tweet_created</th>\n",
              "      <th>tweet_location</th>\n",
              "      <th>user_timezone</th>\n",
              "    </tr>\n",
              "  </thead>\n",
              "  <tbody>\n",
              "    <tr>\n",
              "      <th>0</th>\n",
              "      <td>570306133677760513</td>\n",
              "      <td>neutral</td>\n",
              "      <td>1.0000</td>\n",
              "      <td>NaN</td>\n",
              "      <td>NaN</td>\n",
              "      <td>Virgin America</td>\n",
              "      <td>NaN</td>\n",
              "      <td>cairdin</td>\n",
              "      <td>NaN</td>\n",
              "      <td>0</td>\n",
              "      <td>@VirginAmerica What @dhepburn said.</td>\n",
              "      <td>NaN</td>\n",
              "      <td>2015-02-24 11:35:52 -0800</td>\n",
              "      <td>NaN</td>\n",
              "      <td>Eastern Time (US &amp; Canada)</td>\n",
              "    </tr>\n",
              "    <tr>\n",
              "      <th>1</th>\n",
              "      <td>570301130888122368</td>\n",
              "      <td>positive</td>\n",
              "      <td>0.3486</td>\n",
              "      <td>NaN</td>\n",
              "      <td>0.0000</td>\n",
              "      <td>Virgin America</td>\n",
              "      <td>NaN</td>\n",
              "      <td>jnardino</td>\n",
              "      <td>NaN</td>\n",
              "      <td>0</td>\n",
              "      <td>@VirginAmerica plus you've added commercials t...</td>\n",
              "      <td>NaN</td>\n",
              "      <td>2015-02-24 11:15:59 -0800</td>\n",
              "      <td>NaN</td>\n",
              "      <td>Pacific Time (US &amp; Canada)</td>\n",
              "    </tr>\n",
              "    <tr>\n",
              "      <th>2</th>\n",
              "      <td>570301083672813571</td>\n",
              "      <td>neutral</td>\n",
              "      <td>0.6837</td>\n",
              "      <td>NaN</td>\n",
              "      <td>NaN</td>\n",
              "      <td>Virgin America</td>\n",
              "      <td>NaN</td>\n",
              "      <td>yvonnalynn</td>\n",
              "      <td>NaN</td>\n",
              "      <td>0</td>\n",
              "      <td>@VirginAmerica I didn't today... Must mean I n...</td>\n",
              "      <td>NaN</td>\n",
              "      <td>2015-02-24 11:15:48 -0800</td>\n",
              "      <td>Lets Play</td>\n",
              "      <td>Central Time (US &amp; Canada)</td>\n",
              "    </tr>\n",
              "    <tr>\n",
              "      <th>3</th>\n",
              "      <td>570301031407624196</td>\n",
              "      <td>negative</td>\n",
              "      <td>1.0000</td>\n",
              "      <td>Bad Flight</td>\n",
              "      <td>0.7033</td>\n",
              "      <td>Virgin America</td>\n",
              "      <td>NaN</td>\n",
              "      <td>jnardino</td>\n",
              "      <td>NaN</td>\n",
              "      <td>0</td>\n",
              "      <td>@VirginAmerica it's really aggressive to blast...</td>\n",
              "      <td>NaN</td>\n",
              "      <td>2015-02-24 11:15:36 -0800</td>\n",
              "      <td>NaN</td>\n",
              "      <td>Pacific Time (US &amp; Canada)</td>\n",
              "    </tr>\n",
              "    <tr>\n",
              "      <th>4</th>\n",
              "      <td>570300817074462722</td>\n",
              "      <td>negative</td>\n",
              "      <td>1.0000</td>\n",
              "      <td>Can't Tell</td>\n",
              "      <td>1.0000</td>\n",
              "      <td>Virgin America</td>\n",
              "      <td>NaN</td>\n",
              "      <td>jnardino</td>\n",
              "      <td>NaN</td>\n",
              "      <td>0</td>\n",
              "      <td>@VirginAmerica and it's a really big bad thing...</td>\n",
              "      <td>NaN</td>\n",
              "      <td>2015-02-24 11:14:45 -0800</td>\n",
              "      <td>NaN</td>\n",
              "      <td>Pacific Time (US &amp; Canada)</td>\n",
              "    </tr>\n",
              "  </tbody>\n",
              "</table>\n",
              "</div>"
            ],
            "text/plain": [
              "             tweet_id  ...               user_timezone\n",
              "0  570306133677760513  ...  Eastern Time (US & Canada)\n",
              "1  570301130888122368  ...  Pacific Time (US & Canada)\n",
              "2  570301083672813571  ...  Central Time (US & Canada)\n",
              "3  570301031407624196  ...  Pacific Time (US & Canada)\n",
              "4  570300817074462722  ...  Pacific Time (US & Canada)\n",
              "\n",
              "[5 rows x 15 columns]"
            ]
          },
          "metadata": {
            "tags": []
          },
          "execution_count": 150
        }
      ]
    },
    {
      "cell_type": "markdown",
      "metadata": {
        "id": "h8C7TrAwQBcv",
        "colab_type": "text"
      },
      "source": [
        "Untuk mudahkan pembacaan, maka ukuran figur diperbesar"
      ]
    },
    {
      "cell_type": "code",
      "metadata": {
        "id": "joUtuhmSP7TQ",
        "colab_type": "code",
        "colab": {
          "base_uri": "https://localhost:8080/",
          "height": 54
        },
        "outputId": "1b2b2167-412b-4c6d-c77d-7f6ff3244988"
      },
      "source": [
        "plot_size = plt.rcParams[\"figure.figsize\"] \n",
        "print(plot_size[0]) \n",
        "print(plot_size[1])\n",
        "\n",
        "plot_size[0] = 12\n",
        "plot_size[1] = 10\n",
        "plt.rcParams[\"figure.figsize\"] = plot_size "
      ],
      "execution_count": 151,
      "outputs": [
        {
          "output_type": "stream",
          "text": [
            "6.0\n",
            "4.0\n"
          ],
          "name": "stdout"
        }
      ]
    },
    {
      "cell_type": "markdown",
      "metadata": {
        "id": "ldRgq9s_Q9vs",
        "colab_type": "text"
      },
      "source": [
        "### Analisis Data\n",
        "Kita lihat perbandingan twit berdasarkan jenis sentimen. "
      ]
    },
    {
      "cell_type": "code",
      "metadata": {
        "trusted": true,
        "id": "pUZNlT9wPLu9",
        "colab_type": "code",
        "colab": {
          "base_uri": "https://localhost:8080/",
          "height": 593
        },
        "outputId": "dd01b836-58ba-497f-99b6-0b1ebc1f529f"
      },
      "source": [
        "airline_tweets.airline.value_counts().plot(kind='pie', autopct='%1.0f%%')"
      ],
      "execution_count": 152,
      "outputs": [
        {
          "output_type": "execute_result",
          "data": {
            "text/plain": [
              "<matplotlib.axes._subplots.AxesSubplot at 0x7f893f820c88>"
            ]
          },
          "metadata": {
            "tags": []
          },
          "execution_count": 152
        },
        {
          "output_type": "display_data",
          "data": {
            "image/png": "[encoded data removed]",
            "text/plain": [
              "<Figure size 864x720 with 1 Axes>"
            ]
          },
          "metadata": {
            "tags": []
          }
        }
      ]
    },
    {
      "cell_type": "markdown",
      "metadata": {
        "id": "2LjE88o9XV1h",
        "colab_type": "text"
      },
      "source": [
        "Dari data sentimen, cuitan, maskapai United menempati posisi tertinggi dengan 26% dan diikuti dengan maskapai US Airways dan American masing-masing sebesar 20% dan 19%. \n",
        "\n",
        "Lalu, sentimen apa yang paling banyak muncul diantara maskapai tersebut? Apakah negatif, positif, atau netral? Mari kita lihat hasilnya"
      ]
    },
    {
      "cell_type": "code",
      "metadata": {
        "id": "uWxXVYLJROuv",
        "colab_type": "code",
        "colab": {
          "base_uri": "https://localhost:8080/",
          "height": 593
        },
        "outputId": "f678dc92-4df1-4169-83fe-d18bdaabc374"
      },
      "source": [
        "airline_tweets.airline_sentiment.value_counts().plot(kind='pie', autopct='%1.0f%%')"
      ],
      "execution_count": 153,
      "outputs": [
        {
          "output_type": "execute_result",
          "data": {
            "text/plain": [
              "<matplotlib.axes._subplots.AxesSubplot at 0x7f893f7f4d68>"
            ]
          },
          "metadata": {
            "tags": []
          },
          "execution_count": 153
        },
        {
          "output_type": "display_data",
          "data": {
            "image/png": "[encoded data removed]",
            "text/plain": [
              "<Figure size 864x720 with 1 Axes>"
            ]
          },
          "metadata": {
            "tags": []
          }
        }
      ]
    },
    {
      "cell_type": "markdown",
      "metadata": {
        "id": "b7USX7LLSJA2",
        "colab_type": "text"
      },
      "source": [
        "Ternyata, mayoritas responden kurang puas atas kondisi maskapai di Amerika. Hal ini berdasarkan 60% data cuitan yang cenderung negatif. \n",
        "Selanjutnya, kita analisis hubungan antara maskapai dengan sentimennya. Kita lihat maskapai mana yang mendapat sentimen negatif paling banyak."
      ]
    },
    {
      "cell_type": "code",
      "metadata": {
        "trusted": true,
        "id": "4hvpbxQ8PLvE",
        "colab_type": "code",
        "colab": {
          "base_uri": "https://localhost:8080/",
          "height": 687
        },
        "outputId": "8a7b552b-28c3-4928-fa4c-6a71b34de8a5"
      },
      "source": [
        "airline_sentiment = airline_tweets.groupby(['airline', 'airline_sentiment']).airline_sentiment.count().unstack()\n",
        "airline_sentiment.plot(kind='bar')\n"
      ],
      "execution_count": 154,
      "outputs": [
        {
          "output_type": "execute_result",
          "data": {
            "text/plain": [
              "<matplotlib.axes._subplots.AxesSubplot at 0x7f893f7c6470>"
            ]
          },
          "metadata": {
            "tags": []
          },
          "execution_count": 154
        },
        {
          "output_type": "display_data",
          "data": {
            "image/png": "[encoded data removed]",
            "text/plain": [
              "<Figure size 864x720 with 1 Axes>"
            ]
          },
          "metadata": {
            "tags": []
          }
        }
      ]
    },
    {
      "cell_type": "markdown",
      "metadata": {
        "id": "xfqCw1syXFtC",
        "colab_type": "text"
      },
      "source": [
        "Mayoritas respon cenderung negatif. Posisi teratas terkait sentimen negatif dipegang oleh maskapai United, kemudian diikuti oleh US Airways dan American.  \n",
        "\n"
      ]
    },
    {
      "cell_type": "markdown",
      "metadata": {
        "id": "Y7vLJKcyPLvK",
        "colab_type": "text"
      },
      "source": [
        "### Data Cleaning\n",
        "\n",
        "Data Cleaning merupakan salah satu tahap pada data preprocessing dari text-mining. Cuitan di Twitter berisi tanda baca dan kata-kata yang tidak diperlukan dalam text mining. \n",
        "\n",
        "Dari dataset ini, cuitan berada pada kolom ke-11, sedangkan label sentimen ada di kolom ke-2. Kolom ke-2 selanjutnya sebagai kolom fitur. \n",
        "\n",
        "Untuk mengambil fitur dan label, kita menggunakan kode berikut:"
      ]
    },
    {
      "cell_type": "code",
      "metadata": {
        "trusted": true,
        "id": "pmbGXxnqPLvM",
        "colab_type": "code",
        "colab": {}
      },
      "source": [
        "fitur = airline_tweets.iloc[:,10].values\n",
        "labels = airline_tweets.iloc[:,1].values"
      ],
      "execution_count": 0,
      "outputs": []
    },
    {
      "cell_type": "markdown",
      "metadata": {
        "id": "FMR6TSjJqv8r",
        "colab_type": "text"
      },
      "source": [
        "Selanjutnya, dengan script berikut, kita 'bersihkan' fitur dari karakter-karakter yang tidak diperlukan."
      ]
    },
    {
      "cell_type": "code",
      "metadata": {
        "id": "J9dVkVuQrGRs",
        "colab_type": "code",
        "colab": {}
      },
      "source": [
        "fitur_ekstraksi = []\n",
        "for cuitan in range(0, len(fitur)):\n",
        "  tmp = re.sub(r'\\W', ' ',str(fitur[cuitan])) # membuang karakter khusus selain angka dan huruf\n",
        "  tmp = re.sub(r'\\s+[a-zA-Z]\\s+', ' ',str(fitur[cuitan])) # membuang kata yang hanya satu huruf\n",
        "  tmp = re.sub(r'\\^[a-zA-Z]\\s+', ' ',str(fitur[cuitan])) # membuang kata yang hanya satu huruf dari awal\n",
        "  tmp = re.sub(r'\\s+', ' ',str(fitur[cuitan])) # mengganti spasi ganda dengan spasi tunggal\n",
        "  tmp = re.sub(r'^b\\s+', ' ',str(fitur[cuitan])) # membuang semua awalan 'b'\n",
        "  tmp = tmp.lower()\n",
        "  fitur_ekstraksi.append(tmp)"
      ],
      "execution_count": 0,
      "outputs": []
    },
    {
      "cell_type": "markdown",
      "metadata": {
        "id": "3MGpzB9_sPxT",
        "colab_type": "text"
      },
      "source": [
        "Dari kode di atas, kita sudah mendapatkan data yang sudah matang dan bersih dari karakter yang tidak diperlukan. \n",
        "\n",
        "### Bag of Words\n",
        "Bag of Words (BoW) adalah bagian dari NLP yang berfungsi untuk penyederhanaan model dari dataset teks. Di bagian BoW ini, data teks atau kalimat direpresentasikan dalam bentuk vektor. Vektor adalah bentuk 1 dimensi dari matriks atau array 1 dimensi. Sebagai contoh:\n",
        "<pre>\n",
        "(1) Budi suka makan nasi goreng dan minum es degan. Edi suka makan nasi uduk.\n",
        "(2) Agus juga suka dengan makan bakso dan minum es teh.\n",
        "</pre>\n",
        "Dua kalimat tersebut, apabila dijadikan dalam bentuk BoW:\n",
        "<pre>\n",
        "daftar_kata = ['Budi','suka','makan','nasi','goreng','Agus','juga','dengan','bakso','dan','minum','es','teh','degan','Susi','uduk']\n",
        "</pre>\n",
        "sedangkan vektor dari masing-masing kalimat adalah:\n",
        "<pre>\n",
        "kalimat1 = [1,2,2,2,1,0,0,0,0,1,1,1,0,1,1,1]\n",
        "kalimat2 = [0,0,1,0,0,1,1,1,1,1,1,1,1,0,0,0]\n",
        "</pre>\n",
        "Angka pada <code>kalimat1</code> dan <code>kalimat2</code> merepresentasikan frekuensi kemunculkan kata pada kalimat tersebut.\n",
        "\n",
        "\n",
        "Namun, ada kondisi ketika semakin banyak frekuensi kata tidak mencerminkan fitur. Sebagai contoh kemunculan kata yang, adalah, dsb berulang kali yang sebenarnya kurang bermakna. Untuk mengatasi ini, cara yang popular adalah dengan membobotkan kemunculan kata pada dokumen secara terbalik/inverse (TF-IDF).   \n",
        "\n",
        "TF-IDF atau *Term Frequency and Inverse Document Frequency* bisa dihitung dengan formula:\n",
        "\\begin{equation}\n",
        "TF = \\frac{F}{N}\n",
        "\\end{equation}\n",
        "di mana $F$ adalah frekuensi sebuah kata dari dokumen, sedangkan $N$ adalah jumlah kata dalam dokumen. Sedangkan $IDF$ bisa didapat dari:\n",
        "\\begin{equation}\n",
        "IDF = \\log\\left(\\frac{1}{T}\\sum_{i=1}^ni \\right)\n",
        "\\end{equation}\n",
        "di mana $T$ adalah jumlah dokumen yang mengandung kata yang dicari sedangkan $n$ adalah jumlah dokumen.\n",
        "Bersyukurlah tidak perlu repot-repot menghitung TF-IDF. Python memiliki *library* <code>Scikit-Learn</code> yang di dalamnya ada <code>TfidfVectorizer</code> dan akan membantu menghitungnya. \n",
        "\n",
        "Sebagaimana yang telah disebutkan sebelumnya, fitur dari BoW akan diubah ke dalam bentuk vektor. Adapun kodenya adalah:"
      ]
    },
    {
      "cell_type": "code",
      "metadata": {
        "id": "i9b-XBDZARq8",
        "colab_type": "code",
        "colab": {}
      },
      "source": [
        "from nltk.corpus import stopwords\n",
        "from sklearn.feature_extraction.text import TfidfVectorizer\n",
        "\n",
        "vektor_kata = TfidfVectorizer (max_features=2500, min_df=7, max_df=0.8, stop_words=stopwords.words('english'))\n",
        "fitur_ekstraksi = vektor_kata.fit_transform(fitur_ekstraksi).toarray()\n"
      ],
      "execution_count": 0,
      "outputs": []
    },
    {
      "cell_type": "markdown",
      "metadata": {
        "id": "s1bXJy0pCU2c",
        "colab_type": "text"
      },
      "source": [
        "Dalam kode di atas, didefinisikan bahwa <code>max_features</code> harus 2500, yang berarti hanya dibatasi maksimal 2500 kata yang paling sering muncul. Kata-kata yang lebih jarang muncul tidak terlalu berguna untuk klasifikasi.\n",
        "\n",
        "Demikian pula, <code>max_df</code> juga membatasi kemunculan kata hanya 80%  dari dokumen. Kata-kata terlalu umum tidak terlalu berguna untuk klasifikasi. Demikian pula, <code>min-df</code> diset pada 7 memastikan bahwa setidaknya kata muncul di 7 dokumen.\n",
        "\n",
        "\n",
        "### Pembagian Data Training dan Data Test\n",
        "Pembagian ini bertujuan untuk membuat dan mengevaluasi model. Kita bagi data training dan data test dengan pembagian 80-20. Pembagian ini dilakukan dengan kode berikut:"
      ]
    },
    {
      "cell_type": "code",
      "metadata": {
        "id": "DcAxilBKDaZM",
        "colab_type": "code",
        "colab": {}
      },
      "source": [
        "from sklearn.model_selection import train_test_split\n",
        "\n",
        "X_train, X_test, y_train, y_test = train_test_split(fitur_ekstraksi, labels, test_size=0.2, random_state=0)"
      ],
      "execution_count": 0,
      "outputs": []
    },
    {
      "cell_type": "markdown",
      "metadata": {
        "id": "_vTlfx2zDrFi",
        "colab_type": "text"
      },
      "source": [
        "Di sini, kita menggunakan algoritma *Random Forest*. <code>sklearn.ensemble</code> memiliki <code>class</code> <code>RandomForestClassifier</code> yang berfungsi untuk melatih model. Cukup dengan memanggil fungsi <code>fit</code> model sudah bisa dilatih. Adapun kodenya sebagai berikut:"
      ]
    },
    {
      "cell_type": "code",
      "metadata": {
        "id": "TmASbNurELGV",
        "colab_type": "code",
        "colab": {
          "base_uri": "https://localhost:8080/",
          "height": 146
        },
        "outputId": "8cfbae66-b379-4110-fe0d-87dc1116ee9f"
      },
      "source": [
        "from sklearn.ensemble import RandomForestClassifier\n",
        "\n",
        "klasifier = RandomForestClassifier(n_estimators=200, random_state=0)\n",
        "klasifier.fit(X_train, y_train)"
      ],
      "execution_count": 159,
      "outputs": [
        {
          "output_type": "execute_result",
          "data": {
            "text/plain": [
              "RandomForestClassifier(bootstrap=True, class_weight=None, criterion='gini',\n",
              "                       max_depth=None, max_features='auto', max_leaf_nodes=None,\n",
              "                       min_impurity_decrease=0.0, min_impurity_split=None,\n",
              "                       min_samples_leaf=1, min_samples_split=2,\n",
              "                       min_weight_fraction_leaf=0.0, n_estimators=200,\n",
              "                       n_jobs=None, oob_score=False, random_state=0, verbose=0,\n",
              "                       warm_start=False)"
            ]
          },
          "metadata": {
            "tags": []
          },
          "execution_count": 159
        }
      ]
    },
    {
      "cell_type": "markdown",
      "metadata": {
        "id": "mynid4HCEnf3",
        "colab_type": "text"
      },
      "source": [
        "### Prediksi dan Evaluasi Model\n",
        "\n",
        "Proses prediksi cukup mudah. Di dalam <code>class</code> <code>RandomForestClassifier</code> memiliki fungsi <code>predict</code>. Adapun kodenya, yaitu:\n"
      ]
    },
    {
      "cell_type": "code",
      "metadata": {
        "id": "hwoV0fbFE6AG",
        "colab_type": "code",
        "colab": {}
      },
      "source": [
        "hasil_prediksi = klasifier.predict(X_test)"
      ],
      "execution_count": 0,
      "outputs": []
    },
    {
      "cell_type": "markdown",
      "metadata": {
        "id": "ZTZBmMLLE_CT",
        "colab_type": "text"
      },
      "source": [
        "Akhirnya, dalam evaluasi kinerja dari model yang telah dibuat, bisa digunakan pengukuran seperti *confusion matrix, F1 Score, * dan akurasi.\n",
        "\n",
        "Dengan cukup memanggil <code>classification_report, confusion_matrix</code> dan <code>accuracy_score</code> dari <code>sklearn.metrics</code>, kita bisa menghitung nilainya. Berikut adalah *script* kodenya:"
      ]
    },
    {
      "cell_type": "code",
      "metadata": {
        "id": "EujJKJ4wFGJI",
        "colab_type": "code",
        "colab": {
          "base_uri": "https://localhost:8080/",
          "height": 274
        },
        "outputId": "c54ec56d-5c8e-479a-f2e5-4a1cd8a6e058"
      },
      "source": [
        "from sklearn.metrics import classification_report, confusion_matrix, accuracy_score\n",
        "\n",
        "print(confusion_matrix(y_test,hasil_prediksi))\n",
        "print(classification_report(y_test,hasil_prediksi))\n",
        "print(accuracy_score(y_test, hasil_prediksi))"
      ],
      "execution_count": 166,
      "outputs": [
        {
          "output_type": "stream",
          "text": [
            "[[1723  108   39]\n",
            " [ 326  248   40]\n",
            " [ 132   58  254]]\n",
            "              precision    recall  f1-score   support\n",
            "\n",
            "    negative       0.79      0.92      0.85      1870\n",
            "     neutral       0.60      0.40      0.48       614\n",
            "    positive       0.76      0.57      0.65       444\n",
            "\n",
            "    accuracy                           0.76      2928\n",
            "   macro avg       0.72      0.63      0.66      2928\n",
            "weighted avg       0.75      0.76      0.74      2928\n",
            "\n",
            "0.7599043715846995\n"
          ],
          "name": "stdout"
        }
      ]
    },
    {
      "cell_type": "markdown",
      "metadata": {
        "id": "CyigjNSEGZ01",
        "colab_type": "text"
      },
      "source": [
        "### Kesimpulan\n",
        "\n",
        "Pada tulisan ini, kita telah mencoba salah satu topik dari penambangan teks dan NLP dengan Python terhadap sentimen responden maskapai di US. Dengan menggunakan algoritma Random Forest, model yang dilatih mendapat akurasi sebesar 75%. \n",
        "\n",
        "Bagi Anda yang ingin mencoba, silakan mencoba algoritma lain berbasis pembelajaran mesin atau *machine learning* seperti Support Vector Machine (SVM) atau K-Nearest Neighbour (KNN) untuk membandingkan performa masing-masing algoritma ini."
      ]
    }
  ]
}